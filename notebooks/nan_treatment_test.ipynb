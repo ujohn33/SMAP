{
 "cells": [
  {
   "cell_type": "code",
   "execution_count": 1,
   "metadata": {},
   "outputs": [],
   "source": [
    "import os\n",
    "# go one directory up\n",
    "os.chdir(\"..\")"
   ]
  },
  {
   "cell_type": "code",
   "execution_count": 2,
   "metadata": {},
   "outputs": [],
   "source": [
    "import polars as pl\n",
    "from datetime import timedelta\n",
    "import smap\n",
    "from smap import *\n",
    "import numpy as np\n",
    "from datetime import date\n",
    "# from smap.helpers import *\n",
    "import smap.helpers as helpers"
   ]
  },
  {
   "cell_type": "code",
   "execution_count": 3,
   "metadata": {},
   "outputs": [
    {
     "name": "stdout",
     "output_type": "stream",
     "text": [
      "Original DataFrame:\n",
      "shape: (649, 2)\n",
      "┌─────────────────────┬──────┐\n",
      "│ dt                  ┆ cons │\n",
      "│ ---                 ┆ ---  │\n",
      "│ datetime[μs]        ┆ f64  │\n",
      "╞═════════════════════╪══════╡\n",
      "│ 2023-01-02 00:00:00 ┆ 1.0  │\n",
      "│ 2023-01-02 01:00:00 ┆ 2.0  │\n",
      "│ 2023-01-02 02:00:00 ┆ NaN  │\n",
      "│ 2023-01-02 03:00:00 ┆ 4.0  │\n",
      "│ …                   ┆ …    │\n",
      "│ 2023-01-28 21:00:00 ┆ 5.0  │\n",
      "│ 2023-01-28 22:00:00 ┆ 6.0  │\n",
      "│ 2023-01-28 23:00:00 ┆ 7.0  │\n",
      "│ 2023-01-29 00:00:00 ┆ 8.0  │\n",
      "└─────────────────────┴──────┘\n",
      "\n",
      "Without NaN treatment:\n",
      "Original df:\n",
      "shape: (649, 2)\n",
      "┌─────────────────────┬──────┐\n",
      "│ dt                  ┆ cons │\n",
      "│ ---                 ┆ ---  │\n",
      "│ datetime[μs]        ┆ f64  │\n",
      "╞═════════════════════╪══════╡\n",
      "│ 2023-01-02 00:00:00 ┆ 1.0  │\n",
      "│ 2023-01-02 01:00:00 ┆ 2.0  │\n",
      "│ 2023-01-02 02:00:00 ┆ NaN  │\n",
      "│ 2023-01-02 03:00:00 ┆ 4.0  │\n",
      "│ …                   ┆ …    │\n",
      "│ 2023-01-28 21:00:00 ┆ 5.0  │\n",
      "│ 2023-01-28 22:00:00 ┆ 6.0  │\n",
      "│ 2023-01-28 23:00:00 ┆ 7.0  │\n",
      "│ 2023-01-29 00:00:00 ┆ 8.0  │\n",
      "└─────────────────────┴──────┘\n",
      "shape: (4, 3)\n",
      "┌──────┬──────┬───────────────────────┐\n",
      "│ year ┆ week ┆ ratio_mean_max_no_min │\n",
      "│ ---  ┆ ---  ┆ ---                   │\n",
      "│ i32  ┆ u32  ┆ f64                   │\n",
      "╞══════╪══════╪═══════════════════════╡\n",
      "│ 2023 ┆ 4    ┆ NaN                   │\n",
      "│ 2023 ┆ 3    ┆ NaN                   │\n",
      "│ 2023 ┆ 1    ┆ NaN                   │\n",
      "│ 2023 ┆ 2    ┆ NaN                   │\n",
      "└──────┴──────┴───────────────────────┘\n",
      "\n",
      "With NaN treatment (replace_NA_with_defaults=True):\n",
      "Original df:\n",
      "shape: (649, 2)\n",
      "┌─────────────────────┬──────┐\n",
      "│ dt                  ┆ cons │\n",
      "│ ---                 ┆ ---  │\n",
      "│ datetime[μs]        ┆ f64  │\n",
      "╞═════════════════════╪══════╡\n",
      "│ 2023-01-02 00:00:00 ┆ 1.0  │\n",
      "│ 2023-01-02 01:00:00 ┆ 2.0  │\n",
      "│ 2023-01-02 02:00:00 ┆ 0.0  │\n",
      "│ 2023-01-02 03:00:00 ┆ 4.0  │\n",
      "│ …                   ┆ …    │\n",
      "│ 2023-01-28 21:00:00 ┆ 5.0  │\n",
      "│ 2023-01-28 22:00:00 ┆ 6.0  │\n",
      "│ 2023-01-28 23:00:00 ┆ 7.0  │\n",
      "│ 2023-01-29 00:00:00 ┆ 8.0  │\n",
      "└─────────────────────┴──────┘\n",
      "shape: (4, 3)\n",
      "┌──────┬──────┬───────────────────────┐\n",
      "│ year ┆ week ┆ ratio_mean_max_no_min │\n",
      "│ ---  ┆ ---  ┆ ---                   │\n",
      "│ i32  ┆ u32  ┆ f64                   │\n",
      "╞══════╪══════╪═══════════════════════╡\n",
      "│ 2023 ┆ 4    ┆ 0.322605              │\n",
      "│ 2023 ┆ 3    ┆ 0.311508              │\n",
      "│ 2023 ┆ 1    ┆ 0.308862              │\n",
      "│ 2023 ┆ 2    ┆ 0.310185              │\n",
      "└──────┴──────┴───────────────────────┘\n"
     ]
    },
    {
     "name": "stderr",
     "output_type": "stream",
     "text": [
      "/var/folders/8b/4kssy4kj57jb6rv1pmm5w8h80000gn/T/ipykernel_14881/1581443422.py:3: DeprecationWarning: Creating Datetime ranges using `date_range(s)` is deprecated. Use `datetime_range(s)` instead.\n",
      "  'dt':  pl.date_range(date(2023, 1, 2), date(2023, 1, 29), \"1h\", eager=True),\n"
     ]
    }
   ],
   "source": [
    "# Create synthetic time-series data with some missing values\n",
    "data = {\n",
    "    'dt':  pl.date_range(date(2023, 1, 2), date(2023, 1, 29), \"1h\", eager=True),\n",
    "    'cons': [1, 2, np.nan, 4, 5, np.nan, 7, np.inf, 9, np.nan] * 64 + list(range(9))  # Just repeating for demo\n",
    "}\n",
    "\n",
    "df = pl.DataFrame(data)\n",
    "\n",
    "# Show the original DataFrame with missing values\n",
    "print(\"Original DataFrame:\")\n",
    "print(df)\n",
    "\n",
    "# Applying the function without replacing NaN and Inf\n",
    "print(\"\\nWithout NaN treatment:\")\n",
    "result_df_no_treatment = r_mean_max_no_min(df, replace_NA_with_defaults=False)\n",
    "print(result_df_no_treatment)\n",
    "\n",
    "# Applying the function with NaN and Inf replacement\n",
    "print(\"\\nWith NaN treatment (replace_NA_with_defaults=True):\")\n",
    "result_df_with_treatment = r_mean_max_no_min(df, replace_NA_with_defaults=True)\n",
    "print(result_df_with_treatment)\n"
   ]
  },
  {
   "cell_type": "code",
   "execution_count": null,
   "metadata": {},
   "outputs": [],
   "source": []
  }
 ],
 "metadata": {
  "kernelspec": {
   "display_name": "fluvius",
   "language": "python",
   "name": "python3"
  },
  "language_info": {
   "codemirror_mode": {
    "name": "ipython",
    "version": 3
   },
   "file_extension": ".py",
   "mimetype": "text/x-python",
   "name": "python",
   "nbconvert_exporter": "python",
   "pygments_lexer": "ipython3",
   "version": "3.8.17"
  }
 },
 "nbformat": 4,
 "nbformat_minor": 2
}
