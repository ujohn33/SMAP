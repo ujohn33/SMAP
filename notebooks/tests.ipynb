{
 "cells": [
  {
   "cell_type": "code",
   "execution_count": 1,
   "metadata": {},
   "outputs": [],
   "source": [
    "import os\n",
    "# go one directory up\n",
    "os.chdir(\"..\")"
   ]
  },
  {
   "cell_type": "code",
   "execution_count": 8,
   "metadata": {},
   "outputs": [],
   "source": [
    "import polars as pl\n",
    "from datetime import timedelta\n",
    "from smap import *\n",
    "# from smap.helpers import *\n",
    "import smap.helpers as helpers"
   ]
  },
  {
   "cell_type": "code",
   "execution_count": 16,
   "metadata": {},
   "outputs": [],
   "source": [
    "example_data = {\n",
    "    'dt': ['2023-01-01 07:00', '2023-01-01 12:30', '2023-01-08 06:15', '2023-01-09 11:45'],\n",
    "    'cons': [10, 20, 30, 40],\n",
    "    'temp': [-3, 4, 5, 8]\n",
    "}\n",
    "df = pl.DataFrame(example_data)\n",
    "# use .str.to_datetime(\"%Y-%m-%d %H:%M%#z\")\n",
    "df = df.with_columns(\n",
    "    pl.col(\"dt\").str.to_datetime(\"%Y-%m-%d %H:%M\"),\n",
    ")"
   ]
  },
  {
   "cell_type": "code",
   "execution_count": 17,
   "metadata": {},
   "outputs": [
    {
     "data": {
      "text/html": [
       "<div><style>\n",
       ".dataframe > thead > tr > th,\n",
       ".dataframe > tbody > tr > td {\n",
       "  text-align: right;\n",
       "  white-space: pre-wrap;\n",
       "}\n",
       "</style>\n",
       "<small>shape: (4, 3)</small><table border=\"1\" class=\"dataframe\"><thead><tr><th>dt</th><th>cons</th><th>temp</th></tr><tr><td>datetime[μs]</td><td>i64</td><td>i64</td></tr></thead><tbody><tr><td>2023-01-01 07:00:00</td><td>10</td><td>-3</td></tr><tr><td>2023-01-01 12:30:00</td><td>20</td><td>4</td></tr><tr><td>2023-01-08 06:15:00</td><td>30</td><td>5</td></tr><tr><td>2023-01-09 11:45:00</td><td>40</td><td>8</td></tr></tbody></table></div>"
      ],
      "text/plain": [
       "shape: (4, 3)\n",
       "┌─────────────────────┬──────┬──────┐\n",
       "│ dt                  ┆ cons ┆ temp │\n",
       "│ ---                 ┆ ---  ┆ ---  │\n",
       "│ datetime[μs]        ┆ i64  ┆ i64  │\n",
       "╞═════════════════════╪══════╪══════╡\n",
       "│ 2023-01-01 07:00:00 ┆ 10   ┆ -3   │\n",
       "│ 2023-01-01 12:30:00 ┆ 20   ┆ 4    │\n",
       "│ 2023-01-08 06:15:00 ┆ 30   ┆ 5    │\n",
       "│ 2023-01-09 11:45:00 ┆ 40   ┆ 8    │\n",
       "└─────────────────────┴──────┴──────┘"
      ]
     },
     "execution_count": 17,
     "metadata": {},
     "output_type": "execute_result"
    }
   ],
   "source": [
    "df"
   ]
  },
  {
   "cell_type": "code",
   "execution_count": 18,
   "metadata": {},
   "outputs": [
    {
     "data": {
      "text/html": [
       "<div><style>\n",
       ".dataframe > thead > tr > th,\n",
       ".dataframe > tbody > tr > td {\n",
       "  text-align: right;\n",
       "  white-space: pre-wrap;\n",
       "}\n",
       "</style>\n",
       "<small>shape: (3, 19)</small><table border=\"1\" class=\"dataframe\"><thead><tr><th>year</th><th>week</th><th>average_cons</th><th>max_cons</th><th>min_cons</th><th>average_cons_morning</th><th>average_cons_noon</th><th>average_cons_afternoon</th><th>average_cons_evening</th><th>average_cons_night</th><th>average_cons_wd</th><th>average_cons_weekend</th><th>cons_variance</th><th>mean_cor</th><th>t_wide_peaks</th><th>t_width_peaks</th><th>first_exceeding_1kW_hour</th><th>mean_residual_stl</th><th>mean_autocorrelation</th></tr><tr><td>i32</td><td>u32</td><td>f64</td><td>i64</td><td>i64</td><td>f64</td><td>f64</td><td>f64</td><td>f64</td><td>f64</td><td>f64</td><td>f64</td><td>f64</td><td>f64</td><td>i64</td><td>f64</td><td>f64</td><td>f64</td><td>f64</td></tr></thead><tbody><tr><td>2023</td><td>52</td><td>15.0</td><td>20</td><td>10</td><td>10.0</td><td>20.0</td><td>null</td><td>null</td><td>null</td><td>null</td><td>null</td><td>50.0</td><td>NaN</td><td>2</td><td>2.0</td><td>null</td><td>0.0</td><td>-0.5</td></tr><tr><td>2023</td><td>1</td><td>30.0</td><td>30</td><td>30</td><td>30.0</td><td>null</td><td>null</td><td>null</td><td>null</td><td>null</td><td>null</td><td>null</td><td>null</td><td>2</td><td>2.0</td><td>null</td><td>0.0</td><td>NaN</td></tr><tr><td>2023</td><td>2</td><td>40.0</td><td>40</td><td>40</td><td>null</td><td>40.0</td><td>null</td><td>null</td><td>null</td><td>40.0</td><td>null</td><td>null</td><td>null</td><td>2</td><td>2.0</td><td>11.0</td><td>0.0</td><td>NaN</td></tr></tbody></table></div>"
      ],
      "text/plain": [
       "shape: (3, 19)\n",
       "┌──────┬──────┬─────────────┬──────────┬───┬─────────────┬─────────────┬─────────────┬─────────────┐\n",
       "│ year ┆ week ┆ average_con ┆ max_cons ┆ … ┆ t_width_pea ┆ first_excee ┆ mean_residu ┆ mean_autoco │\n",
       "│ ---  ┆ ---  ┆ s           ┆ ---      ┆   ┆ ks          ┆ ding_1kW_ho ┆ al_stl      ┆ rrelation   │\n",
       "│ i32  ┆ u32  ┆ ---         ┆ i64      ┆   ┆ ---         ┆ ur          ┆ ---         ┆ ---         │\n",
       "│      ┆      ┆ f64         ┆          ┆   ┆ f64         ┆ ---         ┆ f64         ┆ f64         │\n",
       "│      ┆      ┆             ┆          ┆   ┆             ┆ f64         ┆             ┆             │\n",
       "╞══════╪══════╪═════════════╪══════════╪═══╪═════════════╪═════════════╪═════════════╪═════════════╡\n",
       "│ 2023 ┆ 52   ┆ 15.0        ┆ 20       ┆ … ┆ 2.0         ┆ null        ┆ 0.0         ┆ -0.5        │\n",
       "│ 2023 ┆ 1    ┆ 30.0        ┆ 30       ┆ … ┆ 2.0         ┆ null        ┆ 0.0         ┆ NaN         │\n",
       "│ 2023 ┆ 2    ┆ 40.0        ┆ 40       ┆ … ┆ 2.0         ┆ 11.0        ┆ 0.0         ┆ NaN         │\n",
       "└──────┴──────┴─────────────┴──────────┴───┴─────────────┴─────────────┴─────────────┴─────────────┘"
      ]
     },
     "execution_count": 18,
     "metadata": {},
     "output_type": "execute_result"
    }
   ],
   "source": [
    "helpers.calc_features_consumption(df)"
   ]
  },
  {
   "cell_type": "code",
   "execution_count": 19,
   "metadata": {},
   "outputs": [
    {
     "name": "stdout",
     "output_type": "stream",
     "text": [
      "shape: (2, 3)\n",
      "┌──────┬──────┬──────────────────────┐\n",
      "│ year ┆ week ┆ average_cons_morning │\n",
      "│ ---  ┆ ---  ┆ ---                  │\n",
      "│ i32  ┆ u32  ┆ f64                  │\n",
      "╞══════╪══════╪══════════════════════╡\n",
      "│ 2023 ┆ 52   ┆ 10.0                 │\n",
      "│ 2023 ┆ 1    ┆ 30.0                 │\n",
      "└──────┴──────┴──────────────────────┘\n"
     ]
    }
   ],
   "source": [
    "print(c_morning(df))"
   ]
  },
  {
   "cell_type": "code",
   "execution_count": 20,
   "metadata": {},
   "outputs": [
    {
     "name": "stdout",
     "output_type": "stream",
     "text": [
      "shape: (2, 3)\n",
      "┌──────┬──────┬───────────────────┐\n",
      "│ year ┆ week ┆ average_cons_noon │\n",
      "│ ---  ┆ ---  ┆ ---               │\n",
      "│ i32  ┆ u32  ┆ f64               │\n",
      "╞══════╪══════╪═══════════════════╡\n",
      "│ 2023 ┆ 52   ┆ 20.0              │\n",
      "│ 2023 ┆ 2    ┆ 40.0              │\n",
      "└──────┴──────┴───────────────────┘\n"
     ]
    }
   ],
   "source": [
    "print(c_noon(df))"
   ]
  },
  {
   "cell_type": "code",
   "execution_count": 21,
   "metadata": {},
   "outputs": [
    {
     "name": "stdout",
     "output_type": "stream",
     "text": [
      "shape: (3, 3)\n",
      "┌──────┬──────┬─────────────────────┐\n",
      "│ year ┆ week ┆ cons_evening_no_min │\n",
      "│ ---  ┆ ---  ┆ ---                 │\n",
      "│ i32  ┆ u32  ┆ f64                 │\n",
      "╞══════╪══════╪═════════════════════╡\n",
      "│ 2023 ┆ 52   ┆ null                │\n",
      "│ 2023 ┆ 1    ┆ null                │\n",
      "│ 2023 ┆ 2    ┆ null                │\n",
      "└──────┴──────┴─────────────────────┘\n"
     ]
    }
   ],
   "source": [
    "print(c_evening_no_min(df))"
   ]
  },
  {
   "cell_type": "code",
   "execution_count": null,
   "metadata": {},
   "outputs": [],
   "source": []
  }
 ],
 "metadata": {
  "kernelspec": {
   "display_name": "native",
   "language": "python",
   "name": "python3"
  },
  "language_info": {
   "codemirror_mode": {
    "name": "ipython",
    "version": 3
   },
   "file_extension": ".py",
   "mimetype": "text/x-python",
   "name": "python",
   "nbconvert_exporter": "python",
   "pygments_lexer": "ipython3",
   "version": "3.8.17"
  }
 },
 "nbformat": 4,
 "nbformat_minor": 2
}
