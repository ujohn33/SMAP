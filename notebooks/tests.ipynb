{
 "cells": [
  {
   "cell_type": "code",
   "execution_count": 1,
   "metadata": {},
   "outputs": [],
   "source": [
    "import os\n",
    "# go one directory up\n",
    "os.chdir(\"..\")"
   ]
  },
  {
   "cell_type": "code",
   "execution_count": 2,
   "metadata": {},
   "outputs": [],
   "source": [
    "import polars as pl\n",
    "from datetime import timedelta\n",
    "from smap import *"
   ]
  },
  {
   "cell_type": "code",
   "execution_count": 3,
   "metadata": {},
   "outputs": [
    {
     "name": "stdout",
     "output_type": "stream",
     "text": [
      "shape: (3, 3)\n",
      "┌──────┬──────┬──────────────┐\n",
      "│ year ┆ week ┆ average_cons │\n",
      "│ ---  ┆ ---  ┆ ---          │\n",
      "│ i32  ┆ u32  ┆ f64          │\n",
      "╞══════╪══════╪══════════════╡\n",
      "│ 2023 ┆ 52   ┆ 15.0         │\n",
      "│ 2023 ┆ 1    ┆ 30.0         │\n",
      "│ 2023 ┆ 2    ┆ 40.0         │\n",
      "└──────┴──────┴──────────────┘\n"
     ]
    }
   ],
   "source": [
    "# Example usage\n",
    "# Replace this with your actual DataFrame\n",
    "example_data = {\n",
    "    'dt': ['2023-01-01 07:00', '2023-01-01 12:30', '2023-01-08 06:15', '2023-01-09 11:45'],\n",
    "    'cons': [10, 20, 30, 40]\n",
    "}\n",
    "df = pl.DataFrame(example_data)\n",
    "print(c_week(df))"
   ]
  },
  {
   "cell_type": "code",
   "execution_count": 4,
   "metadata": {},
   "outputs": [
    {
     "name": "stdout",
     "output_type": "stream",
     "text": [
      "shape: (2, 3)\n",
      "┌──────┬──────┬──────────────────────┐\n",
      "│ year ┆ week ┆ average_cons_morning │\n",
      "│ ---  ┆ ---  ┆ ---                  │\n",
      "│ i32  ┆ u32  ┆ f64                  │\n",
      "╞══════╪══════╪══════════════════════╡\n",
      "│ 2023 ┆ 52   ┆ 10.0                 │\n",
      "│ 2023 ┆ 1    ┆ 30.0                 │\n",
      "└──────┴──────┴──────────────────────┘\n"
     ]
    }
   ],
   "source": [
    "# Example usage\n",
    "# Replace this with your actual DataFrame\n",
    "example_data = {\n",
    "    'dt': ['2023-01-01 07:00', '2023-01-01 12:30', '2023-01-08 06:15', '2023-01-09 11:45'],\n",
    "    'cons': [10, 20, 30, 40]\n",
    "}\n",
    "df = pl.DataFrame(example_data)\n",
    "print(c_morning(df))"
   ]
  },
  {
   "cell_type": "code",
   "execution_count": 5,
   "metadata": {},
   "outputs": [
    {
     "name": "stdout",
     "output_type": "stream",
     "text": [
      "shape: (3, 3)\n",
      "┌──────┬──────┬───────────────────┐\n",
      "│ year ┆ week ┆ average_cons_noon │\n",
      "│ ---  ┆ ---  ┆ ---               │\n",
      "│ i32  ┆ u32  ┆ f64               │\n",
      "╞══════╪══════╪═══════════════════╡\n",
      "│ 2023 ┆ 52   ┆ 20.0              │\n",
      "│ 2023 ┆ 1    ┆ 35.0              │\n",
      "│ 2023 ┆ 2    ┆ 45.0              │\n",
      "└──────┴──────┴───────────────────┘\n"
     ]
    }
   ],
   "source": [
    "data = {\n",
    "    'dt': ['2023-01-01 10:30', '2023-01-01 11:00', '2023-01-08 13:00', '2023-01-09 12:00'],\n",
    "    'cons': [15, 25, 35, 45]\n",
    "}\n",
    "df = pl.DataFrame(data)\n",
    "print(c_noon(df))"
   ]
  },
  {
   "cell_type": "code",
   "execution_count": 6,
   "metadata": {},
   "outputs": [
    {
     "name": "stdout",
     "output_type": "stream",
     "text": [
      "shape: (2, 3)\n",
      "┌──────┬──────┬──────────────────────────┐\n",
      "│ year ┆ week ┆ average_cons_evening_min │\n",
      "│ ---  ┆ ---  ┆ ---                      │\n",
      "│ i32  ┆ u32  ┆ f64                      │\n",
      "╞══════╪══════╪══════════════════════════╡\n",
      "│ 2023 ┆ 52   ┆ 5.0                      │\n",
      "│ 2023 ┆ 2    ┆ 30.0                     │\n",
      "└──────┴──────┴──────────────────────────┘\n"
     ]
    }
   ],
   "source": [
    "data = {\n",
    "    'dt': ['2023-01-01 19:30', '2023-01-01 20:00', '2023-01-08 13:00', '2023-01-09 20:00'],\n",
    "    'cons': [15, 25, 35, 45]\n",
    "}\n",
    "df = pl.DataFrame(data)\n",
    "print(c_evening_no_min(df))"
   ]
  },
  {
   "cell_type": "code",
   "execution_count": null,
   "metadata": {},
   "outputs": [],
   "source": []
  }
 ],
 "metadata": {
  "kernelspec": {
   "display_name": "native",
   "language": "python",
   "name": "python3"
  },
  "language_info": {
   "codemirror_mode": {
    "name": "ipython",
    "version": 3
   },
   "file_extension": ".py",
   "mimetype": "text/x-python",
   "name": "python",
   "nbconvert_exporter": "python",
   "pygments_lexer": "ipython3",
   "version": "3.8.17"
  }
 },
 "nbformat": 4,
 "nbformat_minor": 2
}
